{
  "nbformat": 4,
  "nbformat_minor": 0,
  "metadata": {
    "colab": {
      "provenance": [],
      "authorship_tag": "ABX9TyPx6Y97pa2GUFN0Ls0aCo16",
      "include_colab_link": true
    },
    "kernelspec": {
      "name": "python3",
      "display_name": "Python 3"
    },
    "language_info": {
      "name": "python"
    }
  },
  "cells": [
    {
      "cell_type": "markdown",
      "metadata": {
        "id": "view-in-github",
        "colab_type": "text"
      },
      "source": [
        "<a href=\"https://colab.research.google.com/github/WillianbsilvaDev/Calculo-Computacional/blob/main/Untitled0.ipynb\" target=\"_parent\"><img src=\"https://colab.research.google.com/assets/colab-badge.svg\" alt=\"Open In Colab\"/></a>"
      ]
    },
    {
      "cell_type": "code",
      "execution_count": 22,
      "metadata": {
        "colab": {
          "base_uri": "https://localhost:8080/"
        },
        "id": "T8Lwk39d1loh",
        "outputId": "1e8a58f8-a720-439b-9d0e-3d50f9f655cf"
      },
      "outputs": [
        {
          "output_type": "stream",
          "name": "stdout",
          "text": [
            "set {'Core', 'CPU', 'Registrador'}\n",
            "set {'Core', 'CPU', 'REGISTRADOR'}\n",
            "união {'cpu', 'ssd1', 'lol', 'firefox', 'google', 'mysql', 'ram'}\n",
            "união {'cpu', 'ssd1', 'hd', 'lol', 'firefox', 'google', 'mysql', 'ram'}\n",
            "união {'cpu', 'ssd1', 'hd', 'lol', 'firefox', 'google', 'mysql', 'ram'}\n",
            "Intersecção {'cpu', 'mysql', 'ram'}\n",
            "Intersecção {'cpu', 'ram', 'google'}\n",
            "Pertinência True False True False\n"
          ]
        }
      ],
      "source": [
        "#criando conjunto set\n",
        "\n",
        "conjunto_processador = {'CPU', 'Registrador', 'Core'}\n",
        "conjunto_processador\n",
        "print('set',conjunto_processador)\n",
        "type(conjunto_processador)\n",
        "conj_proc = set(['CPU', 'REGISTRADOR', 'Core'])\n",
        "conj_proc\n",
        "print('set',conj_proc)\n",
        "type(conj_proc)\n",
        "\n",
        "#criando União\n",
        "user_thor = {'mysql', 'cpu', 'ram', 'ssd1', 'google'}\n",
        "user_thanos = {'lol', 'ram', 'cpu', 'hd', 'google'}\n",
        "user_ca = {'mysql', 'lol', 'ram', 'cpu', 'firefox'}\n",
        "user_ts = {'mysql', 'cpu', 'ram', 'ssd1', 'google'}\n",
        "inventario1 = user_thor | user_ca\n",
        "inventario1\n",
        "print('união', inventario1)\n",
        "inventario2 = user_thor | user_ca| user_thanos | user_ts\n",
        "print('união', inventario2)\n",
        "\n",
        "#união\n",
        "inventario3 = user_thor.union(user_thanos, user_ca, user_ts)\n",
        "print('união', inventario3)\n",
        "\n",
        "\n",
        "inventario4 = user_thor & user_ca\n",
        "print(\"Intersecção\" ,inventario4)\n",
        "inventario5 = user_thor.intersection(user_thanos)\n",
        "print(\"Intersecção\" ,inventario5)\n",
        "\n",
        "a ='cpu' in user_ts\n",
        "b='firefox' in user_thanos\n",
        "c='lol' not in user_thor\n",
        "d='lol' not in user_thanos\n",
        "print('Pertinência', a, b , c ,d)\n",
        "\n",
        "user_thor.insubset(user_thanos)\n",
        "user_ts.issuperset(user_thor)\n",
        "\n",
        "\n",
        "\n",
        "\n"
      ]
    }
  ]
}